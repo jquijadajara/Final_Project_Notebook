{
 "cells": [
  {
   "cell_type": "markdown",
   "id": "f37cca4a",
   "metadata": {},
   "source": [
    "### Exercise 2 - Notebook Title ###\n",
    "# <H1>**Final Project: Data Science Notebook - Mod 6**</H1>"
   ]
  },
  {
   "cell_type": "markdown",
   "id": "8df542ef",
   "metadata": {},
   "source": [
    "### Exercise 3 - Introduction ###\n",
    "# **Introduction**\n",
    "# This notebook is created to demonstrate basic concepts and tools used in Data Science, including programming languages, libraries, and simple arithmetic examples."
   ]
  },
  {
   "cell_type": "markdown",
   "id": "d859e946",
   "metadata": {},
   "source": [
    "### Exercise 4 - Languages of Data Science ###\n",
    "# **Languages of Data Science:**\n",
    "# - Python\n",
    "# - R\n",
    "# - SQL\n",
    "# - Julia\n",
    "# - JavaScript\n",
    "# - Scala"
   ]
  },
  {
   "cell_type": "markdown",
   "id": "1a1b0497",
   "metadata": {},
   "source": [
    "### Exercise 5 - Libraries of Data Science ###\n",
    "# **Libraries of Data Science:**\n",
    "# - NumPy\n",
    "# - pandas\n",
    "# - Matplotlib\n",
    "# - scikit-learn\n",
    "# - TensorFlow\n",
    "# - PyTorch\n",
    "# - seaborn"
   ]
  },
  {
   "cell_type": "markdown",
   "id": "c2457022-1f3e-4aa6-a5c7-ed412c2a6557",
   "metadata": {},
   "source": [
    "### Exercise 6 -  Tools of Data Science ###\n",
    "# **Tools of Data Science:**"
   ]
  },
  {
   "cell_type": "code",
   "execution_count": 9,
   "id": "6ce2095d-fe8d-4512-bcc2-5ed6451227ea",
   "metadata": {},
   "outputs": [
    {
     "data": {
      "text/html": [
       "<div>\n",
       "<style scoped>\n",
       "    .dataframe tbody tr th:only-of-type {\n",
       "        vertical-align: middle;\n",
       "    }\n",
       "\n",
       "    .dataframe tbody tr th {\n",
       "        vertical-align: top;\n",
       "    }\n",
       "\n",
       "    .dataframe thead th {\n",
       "        text-align: right;\n",
       "    }\n",
       "</style>\n",
       "<table border=\"1\" class=\"dataframe\">\n",
       "  <thead>\n",
       "    <tr style=\"text-align: right;\">\n",
       "      <th></th>\n",
       "      <th>Data Science Tool</th>\n",
       "      <th>Description</th>\n",
       "    </tr>\n",
       "  </thead>\n",
       "  <tbody>\n",
       "    <tr>\n",
       "      <th>0</th>\n",
       "      <td>Jupyter Notebooks</td>\n",
       "      <td>Interactive coding and visualization</td>\n",
       "    </tr>\n",
       "    <tr>\n",
       "      <th>1</th>\n",
       "      <td>RStudio</td>\n",
       "      <td>Statistical computing and graphics</td>\n",
       "    </tr>\n",
       "    <tr>\n",
       "      <th>2</th>\n",
       "      <td>Apache Spark</td>\n",
       "      <td>Big data processing</td>\n",
       "    </tr>\n",
       "    <tr>\n",
       "      <th>3</th>\n",
       "      <td>Tableau</td>\n",
       "      <td>Data visualization</td>\n",
       "    </tr>\n",
       "    <tr>\n",
       "      <th>4</th>\n",
       "      <td>Microsoft Excel</td>\n",
       "      <td>Spreadsheet manipulation</td>\n",
       "    </tr>\n",
       "  </tbody>\n",
       "</table>\n",
       "</div>"
      ],
      "text/plain": [
       "   Data Science Tool                           Description\n",
       "0  Jupyter Notebooks  Interactive coding and visualization\n",
       "1            RStudio    Statistical computing and graphics\n",
       "2       Apache Spark                   Big data processing\n",
       "3            Tableau                    Data visualization\n",
       "4    Microsoft Excel              Spreadsheet manipulation"
      ]
     },
     "metadata": {},
     "output_type": "display_data"
    }
   ],
   "source": [
    "### Exercise 6 -  Tools of Data Science ###\n",
    "# Tools of Data Science:\n",
    "import pandas as pd\n",
    "\n",
    "data = [\n",
    "    [\"Jupyter Notebooks\", \"Interactive coding and visualization\"],\n",
    "    [\"RStudio\", \"Statistical computing and graphics\"],\n",
    "    [\"Apache Spark\", \"Big data processing\"],\n",
    "    [\"Tableau\", \"Data visualization\"],\n",
    "    [\"Microsoft Excel\", \"Spreadsheet manipulation\"]\n",
    "]\n",
    "\n",
    "df = pd.DataFrame(data, columns=[\"Data Science Tool\", \"Description\"])\n",
    "display(df)"
   ]
  },
  {
   "cell_type": "markdown",
   "id": "893019f3",
   "metadata": {},
   "source": [
    "### Exercise 7 - Examples of Arithmetic Expressions ###\n",
    "# **Examples of Arithmetic Expressions:**\n",
    "# Arithmetic expressions are used to perform mathematical operations, such as addition, subtraction, multiplication, and division."
   ]
  },
  {
   "cell_type": "code",
   "execution_count": 1,
   "id": "b6528391-9cd7-4027-9454-719195ab8244",
   "metadata": {},
   "outputs": [
    {
     "name": "stdout",
     "output_type": "stream",
     "text": [
      "Multiplication Result: 20\n",
      "Sum Result: 9\n"
     ]
    }
   ],
   "source": [
    "### Exercise 8 - Multiply and Add Numbers ###\n",
    "# Multiply and Add Numbers\n",
    "a = 5\n",
    "b = 4\n",
    "result_multiply = a * b\n",
    "result_sum = a + b\n",
    "print(\"Multiplication Result:\", result_multiply)\n",
    "print(\"Sum Result:\", result_sum)"
   ]
  },
  {
   "cell_type": "code",
   "execution_count": 2,
   "id": "f088e576",
   "metadata": {},
   "outputs": [
    {
     "name": "stdout",
     "output_type": "stream",
     "text": [
      "Hours: 2.5\n"
     ]
    }
   ],
   "source": [
    "### Exercise 9 - Convert Minutes to Hours ###\n",
    "# Convert Minutes to Hours\n",
    "minutes = 150\n",
    "hours = minutes / 60\n",
    "print(\"Hours:\", hours)"
   ]
  },
  {
   "cell_type": "markdown",
   "id": "d6af84cc-ec07-4bf2-bc66-1027dfa40ded",
   "metadata": {},
   "source": [
    "### Exercise 10 - List Objectives ###\n",
    "# **Objectives:**\n",
    "# - Understand Data Science tools\n",
    "# - Practice arithmetic operations\n",
    "# - Learn Markdown syntax"
   ]
  },
  {
   "cell_type": "markdown",
   "id": "a63c26bf",
   "metadata": {},
   "source": [
    "### Exercise 11 - Author Name ###\n",
    "# **Author**:\n",
    "# - Jonathan Quijada Jara"
   ]
  },
  {
   "cell_type": "code",
   "execution_count": null,
   "id": "adb91c57-4464-4d6e-b6ff-7e2f31bb2f55",
   "metadata": {},
   "outputs": [],
   "source": []
  }
 ],
 "metadata": {
  "kernelspec": {
   "display_name": "Python 3 (ipykernel)",
   "language": "python",
   "name": "python3"
  },
  "language_info": {
   "codemirror_mode": {
    "name": "ipython",
    "version": 3
   },
   "file_extension": ".py",
   "mimetype": "text/x-python",
   "name": "python",
   "nbconvert_exporter": "python",
   "pygments_lexer": "ipython3",
   "version": "3.12.2"
  }
 },
 "nbformat": 4,
 "nbformat_minor": 5
}
