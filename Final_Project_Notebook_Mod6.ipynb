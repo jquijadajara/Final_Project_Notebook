{
 "cells": [
  {
   "cell_type": "markdown",
   "id": "f37cca4a",
   "metadata": {},
   "source": [
    "### Exercise 2 - Notebook Title ###\n",
    "# Final Project: Data Science Notebook - Mod 6"
   ]
  },
  {
   "cell_type": "markdown",
   "id": "8df542ef",
   "metadata": {},
   "source": [
    "### Exercise 3 - Introduction ###\n",
    "# Introduction\n",
    "# This notebook is created to demonstrate basic concepts and tools used in Data Science, \n",
    "# including programming languages, libraries, and simple arithmetic examples."
   ]
  },
  {
   "cell_type": "markdown",
   "id": "d859e946",
   "metadata": {},
   "source": [
    "### Exercise 4 - Languages of Data Science ###\n",
    "# Languages of Data Science:\n",
    "# - Python\n",
    "# - R\n",
    "# - SQL\n",
    "# - Julia\n",
    "# - JavaScript\n",
    "# - Scala"
   ]
  },
  {
   "cell_type": "markdown",
   "id": "1a1b0497",
   "metadata": {},
   "source": [
    "### Exercise 5 - Libraries of Data Science ###\n",
    "# Libraries of Data Science:\n",
    "# - NumPy\n",
    "# - pandas\n",
    "# - Matplotlib\n",
    "# - scikit-learn\n",
    "# - TensorFlow\n",
    "# - PyTorch\n",
    "# - seaborn"
   ]
  },
  {
   "cell_type": "markdown",
   "id": "39a0bb36",
   "metadata": {},
   "source": [
    "### Exercise 6 - Tools of Data Science ###\n",
    "# | Tool                | Purpose                    |\n",
    "# |---------------------|----------------------------|\n",
    "# | Jupyter Notebooks  | Interactive coding         |\n",
    "# | RStudio            | Statistical analysis       |\n",
    "# | Apache Spark       | Big data processing        |\n",
    "# | Tableau            | Data visualization         |\n",
    "# | Microsoft Excel    | Spreadsheet manipulation   |"
   ]
  },
  {
   "cell_type": "markdown",
   "id": "893019f3",
   "metadata": {},
   "source": [
    "### Exercise 7 - Examples of Arithmetic Expressions ###\n",
    "# Examples of Arithmetic Expressions:\n",
    "# Arithmetic expressions are used to perform mathematical operations, such as addition, \n",
    "# subtraction, multiplication, and division."
   ]
  },
  {
   "cell_type": "code",
   "execution_count": null,
   "id": "d80ae92e",
   "metadata": {},
   "outputs": [],
   "source": [
    "### Exercise 8 - Multiply and Add Numbers ###\n",
    "# Multiply and Add Numbers\n",
    "a = 5\n",
    "b = 4\n",
    "result_multiply = a * b\n",
    "result_sum = a + b\n",
    "print(\"Multiplication Result:\", result_multiply)\n",
    "print(\"Sum Result:\", result_sum)"
   ]
  },
  {
   "cell_type": "code",
   "execution_count": null,
   "id": "f088e576",
   "metadata": {},
   "outputs": [],
   "source": [
    "### Exercise 9 - Convert Minutes to Hours ###\n",
    "# Convert Minutes to Hours\n",
    "minutes = 150\n",
    "hours = minutes / 60\n",
    "print(\"Hours:\", hours)"
   ]
  },
  {
   "cell_type": "code",
   "execution_count": null,
   "id": "742d690f",
   "metadata": {},
   "outputs": [],
   "source": [
    "### Exercise 10 - List Objectives ###\n",
    "# Goals:\n",
    "goals = [\"Understand Data Science tools\", \"Practice arithmetic operations\", \"Learn Markdown syntax\"]\n",
    "print(\"Objectives:\", goals)"
   ]
  },
  {
   "cell_type": "markdown",
   "id": "a63c26bf",
   "metadata": {},
   "source": [
    "### Exercise 11 - Author Name ###\n",
    "# Author:\n",
    "# - Jonathan Quijada Jara"
   ]
  }
 ],
 "metadata": {},
 "nbformat": 4,
 "nbformat_minor": 5
}
